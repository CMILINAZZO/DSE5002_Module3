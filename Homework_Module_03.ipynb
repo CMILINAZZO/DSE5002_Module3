{
 "cells": [
  {
   "cell_type": "markdown",
   "id": "549c8689-9196-4273-baa0-2534727d0d5a",
   "metadata": {},
   "source": [
    "# Homework/Lab 3,   DSE5002\n",
    "\n",
    "Created 2/11/2025\n",
    "\n",
    "See\n",
    "\n",
    "Think Python\n",
    "https://allendowney.github.io/ThinkPython/chap05.html\n"
   ]
  },
  {
   "cell_type": "markdown",
   "id": "b01363f7-3f85-4d7f-a32c-d1c29c49f5af",
   "metadata": {},
   "source": [
    "# 5.14.1. Ask a virtual assistant\n",
    "\n",
    "Ask a virtual assistant, “What are some uses of the modulus operator?”\n",
    "\n"
   ]
  },
  {
   "cell_type": "markdown",
   "id": "1cbf5580-98c3-4a4f-84ae-9bba5e75f38e",
   "metadata": {},
   "source": [
    "Modulus operator (%) is a surprisingly versatile tool that returns the remainder of a division problem.  \n",
    "(/ operator is floating-point division.)  \n",
    "(// opeator is integer division.)"
   ]
  },
  {
   "cell_type": "markdown",
   "id": "750dab95-f81a-4a40-adfb-78fa27869d2c",
   "metadata": {},
   "source": [
    "1. Checking for even or odd numbers:"
   ]
  },
  {
   "cell_type": "code",
   "execution_count": 1,
   "id": "c0e6854b-b142-4eb5-bf62-4ee75434d538",
   "metadata": {},
   "outputs": [
    {
     "name": "stdout",
     "output_type": "stream",
     "text": [
      "10 is even\n",
      "7 is odd\n"
     ]
    }
   ],
   "source": [
    "number = 10\n",
    "if number % 2 == 0:\n",
    "    print(f\"{number} is even\")  # Output: 10 is even\n",
    "\n",
    "number = 7\n",
    "if number % 2 != 0:\n",
    "    print(f\"{number} is odd\")   # Output: 7 is odd"
   ]
  },
  {
   "cell_type": "markdown",
   "id": "b284f86d-a9fd-4707-8c0a-07d0cf1b1793",
   "metadata": {},
   "source": [
    "2. Looping with wraparound/cycling:"
   ]
  },
  {
   "cell_type": "code",
   "execution_count": null,
   "id": "6d36680c-944e-4adf-9469-792d22abc0ea",
   "metadata": {},
   "outputs": [],
   "source": [
    "colors = [\"red\", \"green\", \"blue\"]\n",
    "for i in range(10):\n",
    "    index = i % len(colors)\n",
    "    print(colors[index])\n",
    "    # Output will cycle through red, green, blue repeatedly"
   ]
  },
  {
   "cell_type": "markdown",
   "id": "131477c9-458e-4431-aad2-21c696f8fc7a",
   "metadata": {},
   "source": [
    "3. Limiting values within a range:"
   ]
  },
  {
   "cell_type": "code",
   "execution_count": null,
   "id": "ab2ee209-0106-422d-a75b-071695c72958",
   "metadata": {},
   "outputs": [],
   "source": [
    "# If you have an index that might go out of bounds of an array, you can use modulus to wrap it back around.\n",
    "index = 15\n",
    "array_length = 5\n",
    "safe_index = index % array_length  # safe_index will be 0\n",
    "print(safe_index)\n",
    "\n",
    "# Think of it like a clock: A clock has 12 hours. If you start at 10 o'clock \n",
    "# and add 5 hours, you don't end up at 15 o'clock. Instead, you wrap around \n",
    "# and end up at 3 o'clock (10 + 5 = 15, and 15 modulo 12 is 3)."
   ]
  },
  {
   "cell_type": "markdown",
   "id": "70d7fb72-eee5-41b5-8eac-b627a9254922",
   "metadata": {},
   "source": [
    "4. Extracting digits from a number:"
   ]
  },
  {
   "cell_type": "code",
   "execution_count": null,
   "id": "b3dad766-a185-4a7a-9f2b-64bed38d39db",
   "metadata": {},
   "outputs": [],
   "source": [
    "number = 12345\n",
    "last_digit = number % 10  # last_digit will be 5\n",
    "print(last_digit)\n",
    "\n",
    "# To get the next digit:\n",
    "number //= 10  # number becomes 1234\n",
    "second_last_digit = number % 10 # second_last_digit will be 4\n",
    "print(second_last_digit)"
   ]
  },
  {
   "cell_type": "markdown",
   "id": "4297d45c-216e-48d2-9aa2-2f8f0bd2710d",
   "metadata": {},
   "source": [
    "5. Implementing hash functions (simple cases):"
   ]
  },
  {
   "cell_type": "code",
   "execution_count": null,
   "id": "6c01be78-0bbd-450f-9c25-c1b724d35d88",
   "metadata": {},
   "outputs": [],
   "source": [
    "# A hash function takes an input (like a string, object, etc.) and produces\n",
    "# a fixed-size output (a hash value or hash code). A good hash function aims\n",
    "# to distribute inputs evenly across the possible output range.\n",
    "\n",
    "# Simplified Analogy: Imagine you have 100 students and 10 lockers (numbered 0\n",
    "# to 9). You need a way to assign each student to a locker. A simple (though \n",
    "# not ideal) way would be to take some unique identifier for the student (like\n",
    "# their ID number) and take the remainder when divided by 10. This will give you\n",
    "# a locker number between 0 and 9.\n",
    "\n",
    "key = \"some_string\"\n",
    "hash_value = sum(ord(char) for char in key) % 10  # Map to an index 0-9\n",
    "print(hash_value)\n",
    "\n",
    "# While real-world hash functions are much more complex, the modulus operator\n",
    "# is a fundamental component in ensuring that the hash value stays within the\n",
    "# bounds of the data structure you're using (like a hash table or an array)."
   ]
  },
  {
   "cell_type": "markdown",
   "id": "897bbe21-e08d-40ce-a2cc-eafa6fb8fa83",
   "metadata": {},
   "source": [
    "6. Performing Time Calculations"
   ]
  },
  {
   "cell_type": "code",
   "execution_count": null,
   "id": "4db03a32-c946-4feb-a217-8370b24de739",
   "metadata": {},
   "outputs": [],
   "source": [
    "total_seconds = 155\n",
    "minutes = total_seconds // 60\n",
    "seconds = total_seconds % 60\n",
    "print(f\"{total_seconds} seconds is {minutes} minutes and {seconds} seconds\")"
   ]
  },
  {
   "cell_type": "markdown",
   "id": "747817e1-e61d-4ddc-b90b-28a74249391a",
   "metadata": {},
   "source": [
    "7. Checking for divisibility"
   ]
  },
  {
   "cell_type": "code",
   "execution_count": null,
   "id": "60593d1a-34ca-40b2-83b5-6b6fc38dcaa4",
   "metadata": {},
   "outputs": [],
   "source": [
    "number = 21\n",
    "divisor = 7\n",
    "if number % divisor == 0:\n",
    "    print(f\"{number} is divisible by {divisor}\") # Output: 21 is divisible by 7"
   ]
  },
  {
   "cell_type": "markdown",
   "id": "70a474da-2695-47d1-8bc9-1049ace781b0",
   "metadata": {},
   "source": [
    "8. Generating repeating patterns"
   ]
  },
  {
   "cell_type": "code",
   "execution_count": null,
   "id": "2314895c-d2e2-4262-935e-abcc38bc6b9c",
   "metadata": {},
   "outputs": [],
   "source": [
    "for i in range(15):\n",
    "    value = i % 5\n",
    "    print(value, end=\" \") # Output: 0 1 2 3 4 0 1 2 3 4 0 1 2 3 4"
   ]
  },
  {
   "cell_type": "markdown",
   "id": "99fff044-a8fe-426a-8aff-a57a53059b6a",
   "metadata": {},
   "source": [
    "In this chapter, we saw two ways to write an if statement with three branches, using a chained conditional or a nested conditional. You can use a virtual assistant to convert from one to the other. For example, ask a VA, “Convert this statement to a chained conditional.”\n",
    "\n",
    "if x == y:  \n",
    "&nbsp;&nbsp;&nbsp;&nbsp;print('x and y are equal')  \n",
    "else:  \n",
    "&nbsp;&nbsp;&nbsp;&nbsp;if x < y:  \n",
    "&nbsp;&nbsp;&nbsp;&nbsp;&nbsp;&nbsp;&nbsp;&nbsp;print('x is less than y')  \n",
    "&nbsp;&nbsp;&nbsp;&nbsp;else:  \n",
    "&nbsp;&nbsp;&nbsp;&nbsp;&nbsp;&nbsp;&nbsp;&nbsp;print('x is greater than y')  \n",
    "\n",
    "Copy and paste the code from the VA and figure out if it works.  If it doesn't, fix it\n",
    "        "
   ]
  },
  {
   "cell_type": "code",
   "execution_count": null,
   "id": "13b72fa3-0237-40a9-ad08-a3390e4bbbb1",
   "metadata": {},
   "outputs": [],
   "source": [
    "# Nested conditional:\n",
    "\n",
    "x = 8\n",
    "y = 6\n",
    "\n",
    "if x == y:\n",
    "    print('x and y are equal')\n",
    "else:\n",
    "    if x < y:\n",
    "        print('x is less than y')\n",
    "    else:\n",
    "        print('x is greater than y')"
   ]
  },
  {
   "cell_type": "code",
   "execution_count": null,
   "id": "756b23cf-c43f-4243-8fa8-928b35c7859a",
   "metadata": {},
   "outputs": [],
   "source": [
    "# Chained conditional:\n",
    "\n",
    "if x == y:\n",
    "    print('x and y are equal')\n",
    "elif x < y:\n",
    "    print('x is less than y')\n",
    "else:\n",
    "    print('x is greater than y')\n",
    "\n",
    "# By using elif, we've \"chained\" the second conditional check directly to the\n",
    "# first if statement. This makes the code more concise and easier to read, as \n",
    "# it clearly shows that these are alternative conditions being checked in order."
   ]
  },
  {
   "cell_type": "markdown",
   "id": "0e1f02c6-73f8-48e3-9faa-5efe8cd04471",
   "metadata": {},
   "source": [
    "Ask a VA, “Rewrite this statement with a single conditional.”\n",
    "\n",
    "if 0 < x:  \n",
    "&nbsp;&nbsp;&nbsp;&nbsp;if x < 10:  \n",
    "&nbsp;&nbsp;&nbsp;&nbsp;&nbsp;&nbsp;&nbsp;&nbsp;print('x is a positive single-digit number.')\n",
    "\n",
    "If this doesn't work, fix it"
   ]
  },
  {
   "cell_type": "code",
   "execution_count": null,
   "id": "78904375-f93f-4fa4-a112-bb6ee78ab899",
   "metadata": {},
   "outputs": [],
   "source": [
    "# Original (nested):\n",
    "if 0 < x:\n",
    "    if x < 10:\n",
    "        print('x is a positive single-digit number.')\n",
    "\n",
    "# Single Conditional:\n",
    "if 0 < x < 10:\n",
    "    print ('x is a positive single-digit number.')"
   ]
  },
  {
   "cell_type": "markdown",
   "id": "b2f89378-2de0-4715-882c-d932fcb57a29",
   "metadata": {},
   "source": [
    "##### Nesting:\n",
    "The second if statement is entirely inside the block of code that is executed if the first if statement's condition (0 < x) is **true**. The check x < 10 only happens if 0 < x has already been established as true. It's a **hierarchical** structure where one condition gates the evaluation of the next.\n",
    "\n",
    "##### Chaining:\n",
    "Each elif condition is checked only if the preceding if or elif conditions were **false**. They are at the **same level** of indentation conceptually, representing alternative paths of execution. The else is a catch-all for when none of the preceding conditions are true."
   ]
  },
  {
   "cell_type": "markdown",
   "id": "0f44a983-208e-45fd-8b9d-8fa10c273cf9",
   "metadata": {},
   "source": [
    "Here’s an attempt at a recursive function that counts down by two.\n",
    "\n",
    "def countdown_by_two(n):  \n",
    "&nbsp;&nbsp;&nbsp;&nbsp;if n == 0:  \n",
    "&nbsp;&nbsp;&nbsp;&nbsp;&nbsp;&nbsp;&nbsp;&nbsp;print('Blastoff!')  \n",
    "&nbsp;&nbsp;&nbsp;&nbsp;else:  \n",
    "&nbsp;&nbsp;&nbsp;&nbsp;&nbsp;&nbsp;&nbsp;&nbsp;print(n)  \n",
    "&nbsp;&nbsp;&nbsp;&nbsp;&nbsp;&nbsp;&nbsp;&nbsp;countdown_by_two(n-2)  "
   ]
  },
  {
   "cell_type": "code",
   "execution_count": null,
   "id": "6c1791d7-b0c9-4eb8-943e-66d473ef35be",
   "metadata": {},
   "outputs": [],
   "source": [
    "def countdown_by_two(n):\n",
    "    if n == 0:\n",
    "        print('Blastoff!')\n",
    "    else:\n",
    "        print(n)\n",
    "        countdown_by_two(n-2)\n",
    "\n",
    "countdown_by_two(10)"
   ]
  },
  {
   "cell_type": "code",
   "execution_count": null,
   "id": "6351627c-483f-4b7d-b316-439485f53d94",
   "metadata": {},
   "outputs": [],
   "source": [
    "# LOL don't do this:\n",
    "# countdown_by_two(11)"
   ]
  },
  {
   "cell_type": "markdown",
   "id": "b530c808-697f-45d4-a5d4-c067b890b60d",
   "metadata": {},
   "source": [
    "# 5.14.3. Exercise\n",
    "\n",
    "If you are given three sticks, you may or may not be able to arrange them in a triangle. For example, if one of the sticks is 12 inches long and the other two are one inch long, you will not be able to get the short sticks to meet in the middle. For any three lengths, there is a test to see if it is possible to form a triangle:\n",
    "\n",
    "If any of the three lengths is greater than the sum of the other two, then you cannot form a triangle. Otherwise, you can. (If the sum of two lengths equals the third, they form what is called a “degenerate” triangle.)\n",
    "\n",
    "Write a function named is_triangle that takes three integers as arguments, and that prints either “Yes” or “No”, depending on whether you can or cannot form a triangle from sticks with the given lengths. Hint: Use a chained conditional."
   ]
  },
  {
   "cell_type": "code",
   "execution_count": 7,
   "id": "90b6882c-d505-41fa-b07f-69e8dcae51ef",
   "metadata": {},
   "outputs": [
    {
     "name": "stdout",
     "output_type": "stream",
     "text": [
      "Get lost, you degenerate! >:( \n",
      "Get lost, you degenerate! >:( \n",
      "Yes! That's a triangle!\n",
      "No, sorry, not a triangle.\n",
      "Yes! That's a triangle!\n",
      "Get lost, you degenerate! >:( \n"
     ]
    }
   ],
   "source": [
    "def named_is_triangle(x, y, z):\n",
    "    sides = sorted([x, y, z])  # Sort the sides for easier checking\n",
    "    a, b, c = sides[0], sides[1], sides[2]\n",
    "\n",
    "    if a + b <= c:  # Covers both non-triangles and degenerate triangles\n",
    "        if a + b == c:\n",
    "            print(\"Get lost, you degenerate! >:( \")\n",
    "        else:\n",
    "            print(\"No, sorry, not a triangle.\")\n",
    "    else:\n",
    "        print(\"Yes! That's a triangle!\")\n",
    "\n",
    "# Test cases\n",
    "named_is_triangle(2, 4, 6)\n",
    "named_is_triangle(6, 4, 2)\n",
    "named_is_triangle(3, 4, 5)\n",
    "named_is_triangle(1, 2, 5)\n",
    "named_is_triangle(5, 3, 4)\n",
    "named_is_triangle(5, 5, 10)"
   ]
  },
  {
   "cell_type": "markdown",
   "id": "61c8400c-fa6a-49d2-b6c1-bf39d890f5fb",
   "metadata": {},
   "source": [
    "* sorted() works by returning a new list containing all items from the iterable in ascending order. This reduces the number of conditions that you need."
   ]
  }
 ],
 "metadata": {
  "kernelspec": {
   "display_name": "Python 3 (ipykernel)",
   "language": "python",
   "name": "python3"
  },
  "language_info": {
   "codemirror_mode": {
    "name": "ipython",
    "version": 3
   },
   "file_extension": ".py",
   "mimetype": "text/x-python",
   "name": "python",
   "nbconvert_exporter": "python",
   "pygments_lexer": "ipython3",
   "version": "3.12.9"
  }
 },
 "nbformat": 4,
 "nbformat_minor": 5
}
